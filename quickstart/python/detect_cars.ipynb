{
 "cells": [
  {
   "cell_type": "markdown",
   "metadata": {},
   "source": [
    "# Detect Cars Tutorial\n",
    "This notebook shows how to detect cars in a folder of images using Moondream.\n",
    "You'll see how to annotate a single image and then process an entire folder,\n",
    "saving the overlayed images and a JSON summary."
   ]
  },
  {
   "cell_type": "code",
   "execution_count": null,
   "metadata": {},
   "outputs": [],
   "source": [
    "import os\n",
    "import json\n",
    "from PIL import Image, ImageDraw\n",
    "from IPython.display import display\n",
    "import moondream as md\n",
    "\n",
    "# Initialize the model to run locally\n",
    "model = md.vl(endpoint=\"http://localhost:2020/v1\")\n",
    "# For Moondream Cloud use:\n",
    "# model = md.vl(api_key=\"<your-api-key>\")\n",
    "\n",
    "INPUT_FOLDER = os.path.join(os.path.dirname(__file__), '..', '..', 'images')\n",
    "OUTPUT_FOLDER = os.path.join(INPUT_FOLDER, 'detected')\n",
    "os.makedirs(OUTPUT_FOLDER, exist_ok=True)\n",
    "\n",
    "image_files = [f for f in os.listdir(INPUT_FOLDER) if f.lower().endswith(('png','jpg','jpeg'))]"
   ]
  },
  {
   "cell_type": "markdown",
   "metadata": {},
   "source": [
    "## Detect a single image\n",
    "Let's run detection on the first image and display the result with bounding boxes." 
   ]
  },
  {
   "cell_type": "code",
   "execution_count": null,
   "metadata": {},
   "outputs": [],
   "source": [
    "first_path = os.path.join(INPUT_FOLDER, image_files[0])\n",
    "first_image = Image.open(first_path)\n",
    "detection = model.detect(first_image, 'car')['objects']\n",
    "overlay = first_image.copy()\n",
    "draw = ImageDraw.Draw(overlay)\n",
    "for box in detection:\n",
    "    draw.rectangle([box['x_min'], box['y_min'], box['x_max'], box['y_max']], outline='red', width=3)\n",
    "display(overlay)\n",
    "detection"
   ]
  },
  {
   "cell_type": "markdown",
   "metadata": {},
   "source": [
    "## Process the entire folder\n",
    "Now let's loop through all the images, saving overlayed versions and recording the results in a JSON file." 
   ]
  },
  {
   "cell_type": "code",
   "execution_count": null,
   "metadata": {},
   "outputs": [],
   "source": [
    "results = []\n",
    "for fname in image_files:\n",
    "    img_path = os.path.join(INPUT_FOLDER, fname)\n",
    "    img = Image.open(img_path)\n",
    "    boxes = model.detect(img, 'car')['objects']\n",
    "    ov = img.copy()\n",
    "    d = ImageDraw.Draw(ov)\n",
    "    for b in boxes:\n",
    "        d.rectangle([b['x_min'], b['y_min'], b['x_max'], b['y_max']], outline='red', width=3)\n",
    "    out_path = os.path.join(OUTPUT_FOLDER, fname)\n",
    "    ov.save(out_path)\n",
    "    results.append({'original': img_path, 'overlay': out_path, 'boxes': boxes})\n",
    "\n",
    "json_path = os.path.join(OUTPUT_FOLDER, 'results.json')\n",
    "with open(json_path, 'w') as f:\n",
    "    json.dump(results, f, indent=2)\n",
    "\n",
    "f'Saved {len(results)} results to {json_path}'"
   ]
  }
 ],
 "metadata": {
  "kernelspec": {
   "display_name": "Python 3",
   "language": "python",
   "name": "python3"
  },
  "language_info": {
   "name": "python",
   "version": "3.x"
  }
 },
 "nbformat": 4,
 "nbformat_minor": 2
}
