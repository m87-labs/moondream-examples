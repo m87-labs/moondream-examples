{
 "cells": [
  {
   "cell_type": "markdown",
   "metadata": {},
   "source": [
     "# Detect Cars Tutorial\n",
     "This notebook shows how to use every vision capability in Moondream.\n",
     "You'll caption an image, ask a question about it, detect cars with boxes,\n",
     "point to each car's center, and then process an entire folder, saving the\n",
     "overlayed images and a JSON summary."
   ]
  },
  {
   "cell_type": "code",
   "execution_count": null,
   "metadata": {},
   "outputs": [],
   "source": [
    "import os\n",
    "import json\n",
    "from PIL import Image, ImageDraw\n",
    "from IPython.display import display\n",
    "import moondream as md\n",
    "\n",
    "# Initialize the model to run locally\n",
    "model = md.vl(endpoint=\"http://localhost:2020/v1\")\n",
    "# For Moondream Cloud use:\n",
    "# model = md.vl(api_key=\"<your-api-key>\")\n",
    "\n",
    "INPUT_FOLDER = os.path.join(os.path.dirname(__file__), '..', '..', 'images')\n",
    "OUTPUT_FOLDER = os.path.join(INPUT_FOLDER, 'detected')\n",
    "os.makedirs(OUTPUT_FOLDER, exist_ok=True)\n",
    "\n",
    "image_files = [f for f in os.listdir(INPUT_FOLDER) if f.lower().endswith(('png','jpg','jpeg'))]"
   ]
  },
  {
   "cell_type": "markdown",
   "metadata": {},
   "source": [
     "## Run all capabilities on one image\n",
     "We'll caption the first image, ask a question, detect cars with boxes, and point to them." 
   ]
  },
  {
   "cell_type": "code",
   "execution_count": null,
   "metadata": {},
   "outputs": [],
   "source": [
     "first_path = os.path.join(INPUT_FOLDER, image_files[0])\n",
     "first_image = Image.open(first_path)\n",
     "caption = model.caption(first_image)['caption']\n",
     "answer = model.query(first_image, \"What's in this image?\")['answer']\n",
    "detection = model.detect(first_image, 'car')['objects']\n",
    "points = model.point(first_image, 'car')['points']\n",
    "overlay = first_image.copy()\n",
    "draw = ImageDraw.Draw(overlay)\n",
    "w, h = overlay.size\n",
    "for box in detection:\n",
    "    draw.rectangle([\n",
    "        int(box['x_min'] * w),\n",
    "        int(box['y_min'] * h),\n",
    "        int(box['x_max'] * w),\n",
    "        int(box['y_max'] * h)\n",
    "    ], outline='red', width=3)\n",
    "for pt in points:\n",
    "    r = 4\n",
    "    draw.ellipse([\n",
    "        int(pt['x'] * w) - r, int(pt['y'] * h) - r,\n",
    "        int(pt['x'] * w) + r, int(pt['y'] * h) + r\n",
    "    ], fill='blue')\n",
     "display(overlay)\n",
     "caption, answer, detection, points"
   ]
  },
  {
   "cell_type": "markdown",
   "metadata": {},
   "source": [
     "## Process the entire folder\n",
     "Now let's run caption, query, detect, and point on every image, saving overlayed versions and recording the results in a JSON file."
   ]
  },
  {
   "cell_type": "code",
   "execution_count": null,
   "metadata": {},
   "outputs": [],
   "source": [
     "results = []\n",
     "for fname in image_files:\n",
     "    img_path = os.path.join(INPUT_FOLDER, fname)\n",
     "    img = Image.open(img_path)\n",
     "    caption = model.caption(img)['caption']\n",
     "    answer = model.query(img, \"What's in this image?\")['answer']\n",
    "    boxes = model.detect(img, 'car')['objects']\n",
    "    points = model.point(img, 'car')['points']\n",
    "    ov = img.copy()\n",
    "    d = ImageDraw.Draw(ov)\n",
    "    w, h = ov.size\n",
    "    for b in boxes:\n",
    "        d.rectangle([\n",
    "            int(b['x_min'] * w),\n",
    "            int(b['y_min'] * h),\n",
    "            int(b['x_max'] * w),\n",
    "            int(b['y_max'] * h)\n",
    "        ], outline='red', width=3)\n",
    "    for p in points:\n",
    "        r = 4\n",
    "        d.ellipse([\n",
    "            int(p['x'] * w) - r, int(p['y'] * h) - r,\n",
    "            int(p['x'] * w) + r, int(p['y'] * h) + r\n",
    "        ], fill='blue')\n",
     "    out_path = os.path.join(OUTPUT_FOLDER, fname)\n",
     "    ov.save(out_path)\n",
     "    results.append({'original': img_path, 'overlay': out_path, 'caption': caption, 'answer': answer, 'boxes': boxes, 'points': points})\n",
    "\n",
    "json_path = os.path.join(OUTPUT_FOLDER, 'results.json')\n",
    "with open(json_path, 'w') as f:\n",
    "    json.dump(results, f, indent=2)\n",
    "\n",
    "f'Saved {len(results)} results to {json_path}'"
   ]
  }
 ],
 "metadata": {
  "kernelspec": {
   "display_name": "Python 3",
   "language": "python",
   "name": "python3"
  },
  "language_info": {
   "name": "python",
   "version": "3.x"
  }
 },
 "nbformat": 4,
 "nbformat_minor": 2
}
